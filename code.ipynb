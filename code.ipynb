{
 "cells": [
  {
   "cell_type": "code",
   "execution_count": 34,
   "metadata": {
    "id": "tGdMBVQBPN_T"
   },
   "outputs": [],
   "source": [
    "from sklearn.linear_model import LinearRegression\n",
    "import numpy as np\n",
    "from sklearn.model_selection import train_test_split\n",
    "import matplotlib.pyplot as plt\n",
    "from sklearn.preprocessing import PolynomialFeatures\n",
    "import operator\n",
    "import pandas as pd"
   ]
  },
  {
   "cell_type": "code",
   "execution_count": 35,
   "metadata": {
    "id": "TluOdtX7PN_X"
   },
   "outputs": [],
   "source": [
    "lg=LinearRegression()"
   ]
  },
  {
   "cell_type": "code",
   "execution_count": 36,
   "metadata": {
    "id": "tN7c-oTWPN_X"
   },
   "outputs": [],
   "source": [
    "import pickle"
   ]
  },
  {
   "cell_type": "code",
   "execution_count": null,
   "metadata": {
    "colab": {
     "base_uri": "https://localhost:8080/"
    },
    "id": "yohMBJN_PN_Y",
    "outputId": "00532773-9aa7-4ff4-d62a-2c0951e7c945"
   },
   "outputs": [],
   "source": []
  },
  {
   "cell_type": "code",
   "execution_count": 37,
   "metadata": {
    "id": "LaJBUpihog-F"
   },
   "outputs": [],
   "source": [
    "trainfile = open(\"./data/train.pkl\", 'rb')\n",
    "testfile = open(\"./data/test.pkl\", 'rb')\n",
    "trainP = pickle.load(trainfile)\n",
    "testP = pickle.load(testfile)"
   ]
  },
  {
   "cell_type": "code",
   "execution_count": 38,
   "metadata": {
    "id": "JR9nbOnnPN_Y"
   },
   "outputs": [],
   "source": [
    "# dodo=np.array(dodo)\n",
    "# np.random.shuffle(dodo)\n",
    "# print(dodo)"
   ]
  },
  {
   "cell_type": "code",
   "execution_count": 39,
   "metadata": {
    "id": "ilqU_tlwPN_Z"
   },
   "outputs": [],
   "source": [
    "train=np.array(trainP)\n",
    "test=np.array(testP)\n",
    "np.random.shuffle(train)"
   ]
  },
  {
   "cell_type": "code",
   "execution_count": 40,
   "metadata": {
    "colab": {
     "base_uri": "https://localhost:8080/"
    },
    "id": "q3xMmLp2PN_Z",
    "outputId": "22256f6d-fe76-46a7-a2e9-23e96958dcd3"
   },
   "outputs": [
    {
     "name": "stdout",
     "output_type": "stream",
     "text": [
      "(8000, 2)\n"
     ]
    }
   ],
   "source": [
    "print(train.shape)"
   ]
  },
  {
   "cell_type": "code",
   "execution_count": 41,
   "metadata": {
    "id": "yQozbkRyPN_Z"
   },
   "outputs": [],
   "source": []
  },
  {
   "cell_type": "code",
   "execution_count": 42,
   "metadata": {
    "colab": {
     "base_uri": "https://localhost:8080/"
    },
    "id": "GJtOSMe3PN_Z",
    "outputId": "d086495e-e4e2-4e83-dca0-ebe1d38b2496"
   },
   "outputs": [
    {
     "name": "stdout",
     "output_type": "stream",
     "text": [
      "(80, 2)\n"
     ]
    }
   ],
   "source": [
    "print(test.shape)"
   ]
  },
  {
   "cell_type": "code",
   "execution_count": 43,
   "metadata": {
    "id": "--up7qWlPN_Z"
   },
   "outputs": [],
   "source": [
    "np.random.shuffle(train)"
   ]
  },
  {
   "cell_type": "code",
   "execution_count": 44,
   "metadata": {
    "id": "By7qfDb9PN_a"
   },
   "outputs": [],
   "source": [
    "trainset=[]\n",
    "for i in range(10):\n",
    "  y=i*800\n",
    "  trainset.append(train[y:y+800,:])"
   ]
  },
  {
   "cell_type": "code",
   "execution_count": 45,
   "metadata": {
    "id": "pSjnx3C7PN_a"
   },
   "outputs": [],
   "source": [
    "# print(trainset)"
   ]
  },
  {
   "cell_type": "code",
   "execution_count": 46,
   "metadata": {
    "id": "zoP40lP9PN_a"
   },
   "outputs": [],
   "source": [
    "trainset=np.array(trainset)"
   ]
  },
  {
   "cell_type": "code",
   "execution_count": 47,
   "metadata": {
    "id": "ncV3zztAPN_a"
   },
   "outputs": [],
   "source": [
    "test_x=test[:,0]\n",
    "test_y=test[:,1]\n",
    "# print(test)"
   ]
  },
  {
   "cell_type": "code",
   "execution_count": 48,
   "metadata": {
    "colab": {
     "base_uri": "https://localhost:8080/",
     "height": 1000
    },
    "id": "pa0kydpQPN_a",
    "outputId": "b894ce12-e69a-4030-9224-f2d1f614c970",
    "scrolled": true
   },
   "outputs": [
    {
     "name": "stdout",
     "output_type": "stream",
     "text": [
      "Table-1\n",
      "    Complexity        Bias         Bias^2       Variance\n",
      "0            1  574.216119  492148.117037   24992.486111\n",
      "1            2  567.579074  467927.238052   33044.050071\n",
      "2            3   46.340878    4162.937722   34767.256817\n",
      "3            4   50.310872    3784.558541   43443.297424\n",
      "4            5   48.864544    3352.957369   49407.353432\n",
      "5            6   46.865373    3070.684033   59521.268061\n",
      "6            7   54.295290    4141.633573   82499.530679\n",
      "7            8   53.376813    3990.492592   91043.185194\n",
      "8            9   52.559712    3839.143051   97383.805410\n",
      "9           10   52.698815    3851.793934  156772.942299\n",
      "10          11   56.032355    4241.797483  163757.663591\n",
      "11          12   64.450166    6825.682250  161435.222726\n",
      "12          13   53.852982    4579.495682  152509.891302\n",
      "13          14   82.220941   15745.941834  146979.981322\n",
      "14          15   61.554040    6878.193600  179606.517887\n",
      "15          16  108.015626   28863.027000  162458.005573\n",
      "16          17   89.427180   14311.132299  206810.460515\n",
      "17          18  153.840797   52572.465234  189878.500305\n",
      "18          19  123.794049   28280.706155  240587.309592\n",
      "19          20  199.298571   89350.476089  230623.272333\n",
      "Table-2\n",
      "    Complexity  Irreducible Error\n",
      "0            1      -5.820766e-11\n",
      "1            2       5.820766e-11\n",
      "2            3       0.000000e+00\n",
      "3            4       7.275958e-12\n",
      "4            5      -7.275958e-12\n",
      "5            6       7.275958e-12\n",
      "6            7       0.000000e+00\n",
      "7            8      -1.455192e-11\n",
      "8            9       0.000000e+00\n",
      "9           10       0.000000e+00\n",
      "10          11       2.910383e-11\n",
      "11          12       2.910383e-11\n",
      "12          13       0.000000e+00\n",
      "13          14      -2.910383e-11\n",
      "14          15      -2.910383e-11\n",
      "15          16       2.910383e-11\n",
      "16          17       2.910383e-11\n",
      "17          18      -2.910383e-11\n",
      "18          19       0.000000e+00\n",
      "19          20       5.820766e-11\n"
     ]
    },
    {
     "data": {
      "image/png": "[encoded data removed]",
      "text/plain": [
       "<Figure size 432x288 with 1 Axes>"
      ]
     },
     "metadata": {
      "needs_background": "light"
     },
     "output_type": "display_data"
    },
    {
     "data": {
      "image/png": "[encoded data removed]",
      "text/plain": [
       "<Figure size 432x288 with 1 Axes>"
      ]
     },
     "metadata": {
      "needs_background": "light"
     },
     "output_type": "display_data"
    },
    {
     "name": "stdout",
     "output_type": "stream",
     "text": [
      "[574.2161191740997, 567.5790742509668, 46.34087809347131, 50.31087225462735, 48.86454385569315, 46.865373228072066, 54.295289719025774, 53.37681283253123, 52.55971163936063, 52.69881505152134, 56.032355280370496, 64.45016556541633, 53.8529820803562, 82.22094130029151, 61.55404021159801, 108.01562550154613, 89.42717959703931, 153.8407972022084, 123.79404874113075, 199.29857082508883]\n",
      "[517140.6031482985, 500971.28812304913, 38930.19453952392, 47227.855965319555, 52760.31080065636, 62591.952093940614, 86641.16425187702, 95033.67778626744, 101222.94846117127, 160624.7362330145, 167999.46107404906, 168260.90497607837, 157089.38698419332, 162725.9231565663, 186484.7114874033, 191321.03257296936, 221121.5928141716, 242450.96553924432, 268868.0157471252, 319973.74842152867]\n"
     ]
    }
   ],
   "source": [
    "lrg=LinearRegression()\n",
    "bias2=[]\n",
    "mse=[]\n",
    "biAs=[]\n",
    "ind_list=[]\n",
    "variance=[]\n",
    "irr_err=[]\n",
    "sort_axis = operator.itemgetter(0)\n",
    "sorted_zip1 = sorted(zip(test_x,test_y), key=sort_axis)\n",
    "test_x, test_y = zip(*sorted_zip1)\n",
    "for j in range(1,21,1):\n",
    "  ind_list.append(j)\n",
    "  vari=0\n",
    "  bias=0\n",
    "  exp=0\n",
    "  f_cap=[]\n",
    "  var_arr=[]\n",
    "  avd=[]\n",
    "  for i in range(len(test[:,0])):\n",
    "      f_cap.append(0)\n",
    "      var_arr.append(0)\n",
    "      # print(test_x[i],test_y[i])\n",
    "  varian=0.0\n",
    "  mse_ar=np.zeros(len(test_x))\n",
    "  for i in range(10):\n",
    "      lol=trainset[i]\n",
    "      y = lol[:,1]\n",
    "      poly_f= PolynomialFeatures(degree=j)\n",
    "      x_poly = poly_f.fit_transform(lol[:,0].reshape(-1,1))\n",
    "      reg=lrg.fit(x_poly,y)\n",
    "      test_poly= poly_f.fit_transform(test[:,0].reshape(-1,1))\n",
    "      predic=lrg.predict(test_poly)\n",
    "      predic=np.array(predic)\n",
    "      sorted_zip = sorted(zip(test[:,0],predic), key=sort_axis)\n",
    "      test_x, predic = zip(*sorted_zip)\n",
    "#       plt.scatter(test_x,test_y)\n",
    "#       plt.plot(test_x,predic)\n",
    "      avd.append(predic)\n",
    "      # print(test.shape)\n",
    "      for a in range(len(test_x)):\n",
    "        f_cap[a]+=predic[a]\n",
    "        mse_ar[a]+=(test_y[a]-predic[a])**2\n",
    "        # print(test_y[a],test_x[a])\n",
    "        # print(predic[a],test_x[a])\n",
    "        # print('------------------')\n",
    "      # plt.show()\n",
    "  mse.append(np.average(mse_ar)/10)\n",
    "  sorted_zip1 = sorted(zip(test_x,test_y), key=sort_axis)\n",
    "  test_x, test_y = zip(*sorted_zip1)\n",
    "  newBias=0\n",
    "  for i in range(len(f_cap)):\n",
    "      f_cap[i]= f_cap[i]/10\n",
    "      # print(f_cap[i],test_y[i])\n",
    "      bias+=(f_cap[i]-test_y[i])**2\n",
    "      newBias+=abs(f_cap[i]-test_y[i])\n",
    "      # print(bias)\n",
    "#   plt.scatter(test_x,test_y)\n",
    "#   plt.plot(test_x,f_cap,'blue')\n",
    "#   plt.title('Graph for degree %s'%(j))\n",
    "#   plt.show()\n",
    "  for i in range(10):\n",
    "    for x in range(len(test_x)):\n",
    "      var_arr[x]+=(avd[i][x]-f_cap[x])**2\n",
    "  for x in range(len(test_x)):\n",
    "      var_arr[x]=var_arr[x]/10\n",
    "  var_arr= np.array(var_arr)\n",
    "  varian=np.average(var_arr)\n",
    "  variance.append(varian)\n",
    "  bias=bias/len(f_cap)\n",
    "  newBias = newBias/len(f_cap)\n",
    "  irr_err.append(np.average(mse_ar)/10-(bias+varian))\n",
    "  bias2.append(bias)\n",
    "  biAs.append(newBias)\n",
    "plt.plot(ind_list,bias2)\n",
    "plt.plot(ind_list,variance,'orange')\n",
    "plt.plot(ind_list,mse,'pink')\n",
    "plt.legend([\"Bias sq.\",\"Variance\",\"MSE\", \"Irreducible Error\"])\n",
    "plt.ylabel('Error')\n",
    "plt.xlabel('Model Complexity')\n",
    "bv_df = pd.DataFrame(list(zip(ind_list,biAs,bias2,variance)))\n",
    "bv_df.columns=['Complexity','Bias','Bias^2','Variance']\n",
    "irr_df=pd.DataFrame(list(zip(ind_list,irr_err)))\n",
    "irr_df.columns=['Complexity','Irreducible Error']\n",
    "print('Table-1')\n",
    "print(bv_df)\n",
    "print('Table-2')\n",
    "print(irr_df)\n",
    "# print(bias2)\n",
    "# print(variance)\n",
    "plt.show()\n",
    "plt.plot(ind_list,irr_err,'blue')\n",
    "plt.plot([0,20],[0,0],'red')\n",
    "plt.ylabel('Irreducible Error')\n",
    "plt.xlabel('Model Complexity')\n",
    "plt.show()\n",
    "print(biAs)\n",
    "print(mse)"
   ]
  },
  {
   "cell_type": "code",
   "execution_count": null,
   "metadata": {
    "id": "My1xDLP7f8kU"
   },
   "outputs": [],
   "source": []
  }
 ],
 "metadata": {
  "colab": {
   "collapsed_sections": [],
   "name": "Untitled.ipynb",
   "provenance": []
  },
  "kernelspec": {
   "display_name": "Python 3 (ipykernel)",
   "language": "python",
   "name": "python3"
  },
  "language_info": {
   "codemirror_mode": {
    "name": "ipython",
    "version": 3
   },
   "file_extension": ".py",
   "mimetype": "text/x-python",
   "name": "python",
   "nbconvert_exporter": "python",
   "pygments_lexer": "ipython3",
   "version": "3.9.7"
  }
 },
 "nbformat": 4,
 "nbformat_minor": 1
}
